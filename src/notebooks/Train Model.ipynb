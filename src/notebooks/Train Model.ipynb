{
 "cells": [
  {
   "cell_type": "markdown",
   "metadata": {},
   "source": [
    "# Train ALMA model"
   ]
  },
  {
   "cell_type": "code",
   "execution_count": 10,
   "metadata": {},
   "outputs": [],
   "source": [
    "from __future__ import print_function\n",
    "import keras\n",
    "from keras.datasets import mnist\n",
    "from keras.models import Sequential\n",
    "from keras.layers import Dense, Dropout, Flatten\n",
    "from keras.layers import Conv2D, MaxPooling2D\n",
    "from keras.layers.normalization import BatchNormalization\n",
    "from keras.optimizers import SGD\n",
    "from keras.optimizers import Adam\n",
    "from sklearn.model_selection import train_test_split\n",
    "from keras.models import model_from_json\n",
    "from keras import backend as K\n",
    "from sklearn.metrics import confusion_matrix\n",
    "from PIL import Image\n",
    "import pandas as pd\n",
    "import time\n",
    "import json\n",
    "import matplotlib.pyplot as plt\n",
    "import numpy as np\n",
    "import glob\n",
    "import cv2\n",
    "import seaborn as sns "
   ]
  },
  {
   "cell_type": "code",
   "execution_count": 3,
   "metadata": {},
   "outputs": [],
   "source": [
    "#https://appliedmachinelearning.blog/2018/11/28/demonstration-of-facial-emotion-recognition-on-real-time-video-using-cnn-python-keras/"
   ]
  },
  {
   "cell_type": "code",
   "execution_count": 2,
   "metadata": {},
   "outputs": [],
   "source": [
    "face_cascade = cv2.CascadeClassifier('haarcascade_frontalface_default.xml')"
   ]
  },
  {
   "cell_type": "code",
   "execution_count": 9,
   "metadata": {},
   "outputs": [],
   "source": [
    "data = pd.read_pickle(\"./both_toTrain.pkl\")"
   ]
  },
  {
   "cell_type": "code",
   "execution_count": 10,
   "metadata": {},
   "outputs": [
    {
     "data": {
      "text/html": [
       "<div>\n",
       "<style scoped>\n",
       "    .dataframe tbody tr th:only-of-type {\n",
       "        vertical-align: middle;\n",
       "    }\n",
       "\n",
       "    .dataframe tbody tr th {\n",
       "        vertical-align: top;\n",
       "    }\n",
       "\n",
       "    .dataframe thead th {\n",
       "        text-align: right;\n",
       "    }\n",
       "</style>\n",
       "<table border=\"1\" class=\"dataframe\">\n",
       "  <thead>\n",
       "    <tr style=\"text-align: right;\">\n",
       "      <th></th>\n",
       "      <th>emotion</th>\n",
       "      <th>path</th>\n",
       "      <th>array</th>\n",
       "      <th>angry</th>\n",
       "      <th>disgust</th>\n",
       "      <th>fear</th>\n",
       "      <th>happy</th>\n",
       "      <th>sadness</th>\n",
       "      <th>surprise</th>\n",
       "      <th>gt</th>\n",
       "    </tr>\n",
       "  </thead>\n",
       "  <tbody>\n",
       "    <tr>\n",
       "      <th>0</th>\n",
       "      <td>sadness</td>\n",
       "      <td>fer2013/train/sadness/S071_002_00000020.png</td>\n",
       "      <td>[[84, 85, 84, 85, 86, 87, 84, 82, 33, 25, 28, ...</td>\n",
       "      <td>0</td>\n",
       "      <td>0</td>\n",
       "      <td>0</td>\n",
       "      <td>0</td>\n",
       "      <td>1</td>\n",
       "      <td>0</td>\n",
       "      <td>[0, 0, 0, 0, 1, 0]</td>\n",
       "    </tr>\n",
       "    <tr>\n",
       "      <th>1</th>\n",
       "      <td>sadness</td>\n",
       "      <td>fer2013/train/sadness/S130_009_00000019.png</td>\n",
       "      <td>[[58, 34, 29, 12, 0, 0, 0, 0, 1, 0, 0, 1, 25, ...</td>\n",
       "      <td>0</td>\n",
       "      <td>0</td>\n",
       "      <td>0</td>\n",
       "      <td>0</td>\n",
       "      <td>1</td>\n",
       "      <td>0</td>\n",
       "      <td>[0, 0, 0, 0, 1, 0]</td>\n",
       "    </tr>\n",
       "    <tr>\n",
       "      <th>2</th>\n",
       "      <td>sadness</td>\n",
       "      <td>fer2013/train/sadness/S125_001_00000012.png</td>\n",
       "      <td>[[157, 129, 46, 45, 42, 43, 36, 32, 24, 29, 24...</td>\n",
       "      <td>0</td>\n",
       "      <td>0</td>\n",
       "      <td>0</td>\n",
       "      <td>0</td>\n",
       "      <td>1</td>\n",
       "      <td>0</td>\n",
       "      <td>[0, 0, 0, 0, 1, 0]</td>\n",
       "    </tr>\n",
       "    <tr>\n",
       "      <th>3</th>\n",
       "      <td>sadness</td>\n",
       "      <td>fer2013/train/sadness/S071_002_00000018.png</td>\n",
       "      <td>[[85, 85, 85, 86, 84, 83, 84, 79, 40, 24, 27, ...</td>\n",
       "      <td>0</td>\n",
       "      <td>0</td>\n",
       "      <td>0</td>\n",
       "      <td>0</td>\n",
       "      <td>1</td>\n",
       "      <td>0</td>\n",
       "      <td>[0, 0, 0, 0, 1, 0]</td>\n",
       "    </tr>\n",
       "    <tr>\n",
       "      <th>4</th>\n",
       "      <td>sadness</td>\n",
       "      <td>fer2013/train/sadness/S106_002_00000015.png</td>\n",
       "      <td>[[76, 75, 76, 81, 35, 34, 33, 35, 45, 39, 29, ...</td>\n",
       "      <td>0</td>\n",
       "      <td>0</td>\n",
       "      <td>0</td>\n",
       "      <td>0</td>\n",
       "      <td>1</td>\n",
       "      <td>0</td>\n",
       "      <td>[0, 0, 0, 0, 1, 0]</td>\n",
       "    </tr>\n",
       "  </tbody>\n",
       "</table>\n",
       "</div>"
      ],
      "text/plain": [
       "   emotion                                         path  \\\n",
       "0  sadness  fer2013/train/sadness/S071_002_00000020.png   \n",
       "1  sadness  fer2013/train/sadness/S130_009_00000019.png   \n",
       "2  sadness  fer2013/train/sadness/S125_001_00000012.png   \n",
       "3  sadness  fer2013/train/sadness/S071_002_00000018.png   \n",
       "4  sadness  fer2013/train/sadness/S106_002_00000015.png   \n",
       "\n",
       "                                               array  angry  disgust  fear  \\\n",
       "0  [[84, 85, 84, 85, 86, 87, 84, 82, 33, 25, 28, ...      0        0     0   \n",
       "1  [[58, 34, 29, 12, 0, 0, 0, 0, 1, 0, 0, 1, 25, ...      0        0     0   \n",
       "2  [[157, 129, 46, 45, 42, 43, 36, 32, 24, 29, 24...      0        0     0   \n",
       "3  [[85, 85, 85, 86, 84, 83, 84, 79, 40, 24, 27, ...      0        0     0   \n",
       "4  [[76, 75, 76, 81, 35, 34, 33, 35, 45, 39, 29, ...      0        0     0   \n",
       "\n",
       "   happy  sadness  surprise                  gt  \n",
       "0      0        1         0  [0, 0, 0, 0, 1, 0]  \n",
       "1      0        1         0  [0, 0, 0, 0, 1, 0]  \n",
       "2      0        1         0  [0, 0, 0, 0, 1, 0]  \n",
       "3      0        1         0  [0, 0, 0, 0, 1, 0]  \n",
       "4      0        1         0  [0, 0, 0, 0, 1, 0]  "
      ]
     },
     "execution_count": 10,
     "metadata": {},
     "output_type": "execute_result"
    }
   ],
   "source": [
    "data.head() # columna de 'arrays' + columna de 'gt'"
   ]
  },
  {
   "cell_type": "code",
   "execution_count": 43,
   "metadata": {},
   "outputs": [
    {
     "data": {
      "text/plain": [
       "(48, 48)"
      ]
     },
     "execution_count": 43,
     "metadata": {},
     "output_type": "execute_result"
    }
   ],
   "source": [
    "data['array'][0].shape"
   ]
  },
  {
   "cell_type": "code",
   "execution_count": 11,
   "metadata": {},
   "outputs": [
    {
     "data": {
      "text/plain": [
       "<matplotlib.image.AxesImage at 0x7fd8d06a0550>"
      ]
     },
     "execution_count": 11,
     "metadata": {},
     "output_type": "execute_result"
    },
    {
     "data": {
      "image/png": "[encoded data removed]",
      "text/plain": [
       "<Figure size 432x288 with 1 Axes>"
      ]
     },
     "metadata": {
      "needs_background": "light"
     },
     "output_type": "display_data"
    }
   ],
   "source": [
    "plt.imshow(data['array'][5], cmap=\"gray\")"
   ]
  },
  {
   "cell_type": "code",
   "execution_count": 12,
   "metadata": {},
   "outputs": [],
   "source": [
    "img_rows, img_cols, img_channels = 48, 48, 1"
   ]
  },
  {
   "cell_type": "code",
   "execution_count": 9,
   "metadata": {},
   "outputs": [],
   "source": [
    "#data['array'] = data['array'].apply(lambda x: np.array([[[c] for c in i] for i in x]))"
   ]
  },
  {
   "cell_type": "code",
   "execution_count": 13,
   "metadata": {},
   "outputs": [],
   "source": [
    "X = np.stack(data['array'])\n",
    "X = X / 255.0 "
   ]
  },
  {
   "cell_type": "code",
   "execution_count": 14,
   "metadata": {},
   "outputs": [],
   "source": [
    "y= np.stack(data['gt'])"
   ]
  },
  {
   "cell_type": "code",
   "execution_count": 15,
   "metadata": {},
   "outputs": [
    {
     "data": {
      "text/plain": [
       "(24670, 6)"
      ]
     },
     "execution_count": 15,
     "metadata": {},
     "output_type": "execute_result"
    }
   ],
   "source": [
    "y.shape"
   ]
  },
  {
   "cell_type": "code",
   "execution_count": 16,
   "metadata": {},
   "outputs": [],
   "source": [
    "X_train, X_test, y_train, y_test = train_test_split(X, y, test_size=0.2)"
   ]
  },
  {
   "cell_type": "code",
   "execution_count": 18,
   "metadata": {},
   "outputs": [],
   "source": [
    "input_shape=(img_rows, img_cols, img_channels)\n",
    "num_classes=6"
   ]
  },
  {
   "cell_type": "code",
   "execution_count": 19,
   "metadata": {},
   "outputs": [
    {
     "name": "stdout",
     "output_type": "stream",
     "text": [
      "(19736, 48, 48) (4934, 48, 48) (19736, 6) (4934, 6)\n"
     ]
    }
   ],
   "source": [
    "print(X_train.shape, X_test.shape, y_train.shape, y_test.shape)"
   ]
  },
  {
   "cell_type": "markdown",
   "metadata": {},
   "source": [
    "### For the shape to be what the model needs "
   ]
  },
  {
   "cell_type": "code",
   "execution_count": 20,
   "metadata": {},
   "outputs": [],
   "source": [
    "\n",
    "if K.image_data_format() == 'channels_first':\n",
    "    X_train = X_train.reshape(X_train.shape[0], 1, img_rows, img_cols)\n",
    "    X_test = X_test.reshape(X_test.shape[0], 1, img_rows, img_cols)\n",
    "    input_shape = (1, img_rows, img_cols)\n",
    "else:\n",
    "    X_train = X_train.reshape(X_train.shape[0], img_rows, img_cols, 1)\n",
    "    X_test = X_test.reshape(X_test.shape[0], img_rows, img_cols, 1)\n",
    "    input_shape = (img_rows, img_cols, 1)\n"
   ]
  },
  {
   "cell_type": "code",
   "execution_count": 18,
   "metadata": {},
   "outputs": [],
   "source": [
    "#https://keras.io/getting-started/sequential-model-guide/"
   ]
  },
  {
   "cell_type": "markdown",
   "metadata": {},
   "source": [
    "## NN convolutional "
   ]
  },
  {
   "cell_type": "code",
   "execution_count": null,
   "metadata": {},
   "outputs": [],
   "source": [
    "'''\n",
    "model = Sequential()\n",
    "model.add(Conv2D(32, kernel_size=(3, 3),\n",
    "                 activation='relu',\n",
    "                 input_shape=input_shape))\n",
    "model.add(Conv2D(64, (3, 3), activation='relu'))\n",
    "model.add(MaxPooling2D(pool_size=(2, 2)))\n",
    "model.add(Dropout(0.25))\n",
    "model.add(Flatten())\n",
    "model.add(Dense(128, activation='relu'))\n",
    "model.add(Dropout(0.5))\n",
    "model.add(Dense(num_classes, activation='softmax'))\n",
    "\n",
    "model.compile(loss=keras.losses.categorical_crossentropy,\n",
    "              optimizer=keras.optimizers.Adadelta(),\n",
    "              metrics=['accuracy'])\n",
    "'''"
   ]
  },
  {
   "cell_type": "code",
   "execution_count": 19,
   "metadata": {},
   "outputs": [
    {
     "name": "stdout",
     "output_type": "stream",
     "text": [
      "Model: \"sequential_2\"\n",
      "_________________________________________________________________\n",
      "Layer (type)                 Output Shape              Param #   \n",
      "=================================================================\n",
      "conv2d_11 (Conv2D)           (None, 48, 48, 64)        640       \n",
      "_________________________________________________________________\n",
      "conv2d_12 (Conv2D)           (None, 48, 48, 64)        36928     \n",
      "_________________________________________________________________\n",
      "max_pooling2d_5 (MaxPooling2 (None, 24, 24, 64)        0         \n",
      "_________________________________________________________________\n",
      "batch_normalization_5 (Batch (None, 24, 24, 64)        256       \n",
      "_________________________________________________________________\n",
      "dropout_6 (Dropout)          (None, 24, 24, 64)        0         \n",
      "_________________________________________________________________\n",
      "conv2d_13 (Conv2D)           (None, 24, 24, 128)       73856     \n",
      "_________________________________________________________________\n",
      "conv2d_14 (Conv2D)           (None, 24, 24, 128)       147584    \n",
      "_________________________________________________________________\n",
      "max_pooling2d_6 (MaxPooling2 (None, 12, 12, 128)       0         \n",
      "_________________________________________________________________\n",
      "batch_normalization_6 (Batch (None, 12, 12, 128)       512       \n",
      "_________________________________________________________________\n",
      "dropout_7 (Dropout)          (None, 12, 12, 128)       0         \n",
      "_________________________________________________________________\n",
      "conv2d_15 (Conv2D)           (None, 12, 12, 256)       295168    \n",
      "_________________________________________________________________\n",
      "conv2d_16 (Conv2D)           (None, 12, 12, 256)       590080    \n",
      "_________________________________________________________________\n",
      "conv2d_17 (Conv2D)           (None, 12, 12, 256)       590080    \n",
      "_________________________________________________________________\n",
      "max_pooling2d_7 (MaxPooling2 (None, 6, 6, 256)         0         \n",
      "_________________________________________________________________\n",
      "batch_normalization_7 (Batch (None, 6, 6, 256)         1024      \n",
      "_________________________________________________________________\n",
      "dropout_8 (Dropout)          (None, 6, 6, 256)         0         \n",
      "_________________________________________________________________\n",
      "conv2d_18 (Conv2D)           (None, 6, 6, 512)         1180160   \n",
      "_________________________________________________________________\n",
      "conv2d_19 (Conv2D)           (None, 6, 6, 512)         2359808   \n",
      "_________________________________________________________________\n",
      "conv2d_20 (Conv2D)           (None, 6, 6, 512)         2359808   \n",
      "_________________________________________________________________\n",
      "max_pooling2d_8 (MaxPooling2 (None, 3, 3, 512)         0         \n",
      "_________________________________________________________________\n",
      "batch_normalization_8 (Batch (None, 3, 3, 512)         2048      \n",
      "_________________________________________________________________\n",
      "dropout_9 (Dropout)          (None, 3, 3, 512)         0         \n",
      "_________________________________________________________________\n",
      "flatten_2 (Flatten)          (None, 4608)              0         \n",
      "_________________________________________________________________\n",
      "dense_3 (Dense)              (None, 4096)              18878464  \n",
      "_________________________________________________________________\n",
      "dropout_10 (Dropout)         (None, 4096)              0         \n",
      "_________________________________________________________________\n",
      "dense_4 (Dense)              (None, 6)                 24582     \n",
      "=================================================================\n",
      "Total params: 26,540,998\n",
      "Trainable params: 26,539,078\n",
      "Non-trainable params: 1,920\n",
      "_________________________________________________________________\n",
      "None\n",
      "Train on 19736 samples, validate on 4934 samples\n",
      "Epoch 1/25\n",
      "19736/19736 [==============================] - 610s 31ms/step - loss: 2.2101 - accuracy: 0.2778 - val_loss: 1.6404 - val_accuracy: 0.3008\n",
      "Epoch 2/25\n",
      "19736/19736 [==============================] - 595s 30ms/step - loss: 1.6150 - accuracy: 0.3184 - val_loss: 1.7539 - val_accuracy: 0.2667\n",
      "Epoch 3/25\n",
      "19736/19736 [==============================] - 595s 30ms/step - loss: 1.3979 - accuracy: 0.4353 - val_loss: 1.7120 - val_accuracy: 0.4015\n",
      "Epoch 4/25\n",
      "19736/19736 [==============================] - 602s 31ms/step - loss: 1.2572 - accuracy: 0.4979 - val_loss: 1.2265 - val_accuracy: 0.5059\n",
      "Epoch 5/25\n",
      "19736/19736 [==============================] - 602s 31ms/step - loss: 1.1673 - accuracy: 0.5361 - val_loss: 1.1976 - val_accuracy: 0.5103\n",
      "Epoch 6/25\n",
      "19736/19736 [==============================] - 595s 30ms/step - loss: 1.0873 - accuracy: 0.5700 - val_loss: 1.1207 - val_accuracy: 0.5642\n",
      "Epoch 7/25\n",
      "19736/19736 [==============================] - 595s 30ms/step - loss: 1.0408 - accuracy: 0.5957 - val_loss: 0.9975 - val_accuracy: 0.5989\n",
      "Epoch 8/25\n",
      "19736/19736 [==============================] - 596s 30ms/step - loss: 0.9794 - accuracy: 0.6160 - val_loss: 1.0585 - val_accuracy: 0.5904\n",
      "Epoch 9/25\n",
      "19736/19736 [==============================] - 601s 30ms/step - loss: 0.9315 - accuracy: 0.6391 - val_loss: 1.0032 - val_accuracy: 0.6072\n",
      "Epoch 10/25\n",
      "19736/19736 [==============================] - 596s 30ms/step - loss: 0.8871 - accuracy: 0.6564 - val_loss: 1.1510 - val_accuracy: 0.5776\n",
      "Epoch 11/25\n",
      "19736/19736 [==============================] - 596s 30ms/step - loss: 0.8401 - accuracy: 0.6710 - val_loss: 0.9979 - val_accuracy: 0.6350\n",
      "Epoch 12/25\n",
      "19736/19736 [==============================] - 596s 30ms/step - loss: 0.7805 - accuracy: 0.6957 - val_loss: 0.9902 - val_accuracy: 0.6403\n",
      "Epoch 13/25\n",
      "19736/19736 [==============================] - 596s 30ms/step - loss: 0.7378 - accuracy: 0.7117 - val_loss: 0.9600 - val_accuracy: 0.6550\n",
      "Epoch 14/25\n",
      "19736/19736 [==============================] - 596s 30ms/step - loss: 0.6910 - accuracy: 0.7361 - val_loss: 1.0076 - val_accuracy: 0.6482\n",
      "Epoch 15/25\n",
      "19736/19736 [==============================] - 594s 30ms/step - loss: 0.6342 - accuracy: 0.7579 - val_loss: 0.9901 - val_accuracy: 0.6514\n",
      "Epoch 16/25\n",
      "19736/19736 [==============================] - 594s 30ms/step - loss: 0.5742 - accuracy: 0.7817 - val_loss: 1.0633 - val_accuracy: 0.6565\n",
      "Epoch 17/25\n",
      "19736/19736 [==============================] - 594s 30ms/step - loss: 0.5269 - accuracy: 0.7990 - val_loss: 1.0239 - val_accuracy: 0.6684\n",
      "Epoch 18/25\n",
      "19736/19736 [==============================] - 595s 30ms/step - loss: 0.4716 - accuracy: 0.8190 - val_loss: 1.0479 - val_accuracy: 0.6715\n",
      "Epoch 19/25\n",
      "19736/19736 [==============================] - 595s 30ms/step - loss: 0.4261 - accuracy: 0.8369 - val_loss: 1.0953 - val_accuracy: 0.6625\n",
      "Epoch 20/25\n",
      "19736/19736 [==============================] - 594s 30ms/step - loss: 0.3732 - accuracy: 0.8611 - val_loss: 1.1544 - val_accuracy: 0.6798\n",
      "Epoch 21/25\n",
      "19736/19736 [==============================] - 594s 30ms/step - loss: 0.3296 - accuracy: 0.8761 - val_loss: 1.2540 - val_accuracy: 0.6672\n",
      "Epoch 22/25\n",
      "19736/19736 [==============================] - 594s 30ms/step - loss: 0.2991 - accuracy: 0.8879 - val_loss: 1.3715 - val_accuracy: 0.6664\n",
      "Epoch 23/25\n",
      "19736/19736 [==============================] - 594s 30ms/step - loss: 0.2666 - accuracy: 0.9002 - val_loss: 1.3295 - val_accuracy: 0.6885\n",
      "Epoch 24/25\n",
      "19736/19736 [==============================] - 594s 30ms/step - loss: 0.2297 - accuracy: 0.9153 - val_loss: 1.5128 - val_accuracy: 0.6692\n",
      "Epoch 25/25\n",
      "19736/19736 [==============================] - 594s 30ms/step - loss: 0.2118 - accuracy: 0.9235 - val_loss: 1.4079 - val_accuracy: 0.6707\n"
     ]
    },
    {
     "data": {
      "text/plain": [
       "<keras.callbacks.callbacks.History at 0x7fcac7c39710>"
      ]
     },
     "execution_count": 19,
     "metadata": {},
     "output_type": "execute_result"
    }
   ],
   "source": [
    "model = Sequential()\n",
    "model.add(Conv2D(64, (3, 3), input_shape=(48, 48 ,1), padding='same', activation='relu'))\n",
    "model.add(Conv2D(64, (3, 3), activation='relu', padding='same'))\n",
    "model.add(MaxPooling2D(pool_size=(2, 2)))\n",
    "model.add(BatchNormalization())\n",
    "model.add(Dropout(0.2))\n",
    "\n",
    "model.add(Conv2D(128, (3, 3), activation='relu', padding='same'))\n",
    "model.add(Conv2D(128, (3, 3), activation='relu', padding='same'))\n",
    "model.add(MaxPooling2D(pool_size=(2, 2)))\n",
    "model.add(BatchNormalization())\n",
    "model.add(Dropout(0.2))\n",
    "\n",
    "model.add(Conv2D(256, (3, 3), activation='relu', padding='same'))\n",
    "model.add(Conv2D(256, (3, 3), activation='relu', padding='same'))\n",
    "model.add(Conv2D(256, (3, 3), activation='relu', padding='same'))\n",
    "model.add(MaxPooling2D(pool_size=(2, 2)))\n",
    "model.add(BatchNormalization())\n",
    "model.add(Dropout(0.2))\n",
    "\n",
    "model.add(Conv2D(512, (3, 3), activation='relu', padding='same'))\n",
    "model.add(Conv2D(512, (3, 3), activation='relu', padding='same'))\n",
    "model.add(Conv2D(512, (3, 3), activation='relu', padding='same'))\n",
    "model.add(MaxPooling2D(pool_size=(2, 2)))\n",
    "model.add(BatchNormalization())\n",
    "model.add(Dropout(0.2))\n",
    "\n",
    "model.add(Flatten())\n",
    "model.add(Dense(4096, activation='relu'))\n",
    "model.add(Dropout(0.5))\n",
    "model.add(Dense(num_classes, activation='softmax'))\n",
    "\n",
    "# Compile model\n",
    "epochs = 25\n",
    "lrate = 0.01\n",
    "decay = lrate/epochs\n",
    "adam = Adam(decay=decay)\n",
    "model.compile(loss='categorical_crossentropy', optimizer=adam, metrics=['accuracy'])\n",
    "print(model.summary())\n",
    "model.fit(X_train, y_train, validation_data=(X_test, y_test), epochs=epochs,verbose=1, batch_size=50)"
   ]
  },
  {
   "cell_type": "code",
   "execution_count": null,
   "metadata": {},
   "outputs": [],
   "source": [
    "'''\n",
    "filepath='Checkpoint_{epoch:02d}_{val_accuracy:.2f}'\n",
    "checkpoint = ModelCheckpoint(filepath, monitor='val_accuracy', verbose=1, save_best_only=True, mode='max')\n",
    "callbacks_list = [checkpoint]\n",
    "'''"
   ]
  },
  {
   "cell_type": "code",
   "execution_count": 20,
   "metadata": {},
   "outputs": [
    {
     "name": "stdout",
     "output_type": "stream",
     "text": [
      "Accuracy: 67.07%\n",
      "Test loss: 1.4079046540285443\n",
      "Test accuracy: 0.6706526279449463\n"
     ]
    }
   ],
   "source": [
    "scores = model.evaluate(X_test, y_test, verbose=0)\n",
    "print(\"Accuracy: %.2f%%\" % (scores[1]*100))\n",
    "print('Test loss:', scores[0])\n",
    "print('Test accuracy:', scores[1])"
   ]
  },
  {
   "cell_type": "code",
   "execution_count": null,
   "metadata": {},
   "outputs": [],
   "source": [
    "'''\n",
    "batch_size = 20\n",
    "epochs = 25\n",
    "\n",
    "model.fit(X_train, y_train,\n",
    "          batch_size=batch_size,\n",
    "          epochs=epochs,\n",
    "          verbose=1,\n",
    "          validation_data=(X_test, y_test))\n",
    "'''"
   ]
  },
  {
   "cell_type": "code",
   "execution_count": null,
   "metadata": {},
   "outputs": [],
   "source": [
    "'''\n",
    "score = model.evaluate(X_test, y_test, verbose=0)\n",
    "print('Test loss:', score[0])\n",
    "print('Test accuracy:', score[1])\n",
    "'''"
   ]
  },
  {
   "cell_type": "markdown",
   "metadata": {},
   "source": [
    "## Save the model"
   ]
  },
  {
   "cell_type": "code",
   "execution_count": 21,
   "metadata": {},
   "outputs": [],
   "source": [
    "moment=time.localtime()\n",
    "name='Model_{}_{}-{}-{}.h5'.format(model.history.history[\"val_accuracy\"][-1],moment[2],moment[3],moment[4])\n",
    "model.save(name)"
   ]
  },
  {
   "cell_type": "code",
   "execution_count": 22,
   "metadata": {},
   "outputs": [],
   "source": [
    "import json\n",
    "\n",
    "model_json = model.to_json()\n",
    "with open(name+'.json', \"w\") as json_file:\n",
    "    json.dump(model_json, json_file)\n",
    "\n",
    "model.save_weights(name)"
   ]
  },
  {
   "cell_type": "markdown",
   "metadata": {},
   "source": [
    "## Prediction <!>"
   ]
  },
  {
   "cell_type": "code",
   "execution_count": 59,
   "metadata": {},
   "outputs": [],
   "source": [
    "class_names = ('Angry', 'Disgust','Fear','Happy','Sad','Surprise')"
   ]
  },
  {
   "cell_type": "code",
   "execution_count": 23,
   "metadata": {},
   "outputs": [
    {
     "name": "stdout",
     "output_type": "stream",
     "text": [
      "[2 4 2 ... 4 4 4]\n",
      "[2 3 4 ... 4 2 4]\n"
     ]
    },
    {
     "data": {
      "image/png": "[encoded data removed]",
      "text/plain": [
       "<Figure size 576x576 with 2 Axes>"
      ]
     },
     "metadata": {
      "needs_background": "light"
     },
     "output_type": "display_data"
    }
   ],
   "source": [
    "Y_pred = model.predict(X_test)\n",
    "# Convert predictions classes to one hot vectors \n",
    "Y_pred_classes = np.argmax(Y_pred,axis = 1) \n",
    "# Convert validation observations to one hot vectors\n",
    "print(Y_pred_classes)\n",
    "Y_true = np.argmax(y_test,axis = 1)\n",
    "print(Y_true)\n",
    "# compute the confusion matrix\n",
    "cm = confusion_matrix(Y_true, Y_pred_classes)\n",
    "cm = cm.astype('float') / cm.sum(axis=1)[:, np.newaxis]\n",
    "# plot the confusion matrix\n",
    "f,ax = plt.subplots(figsize=(8, 8))\n",
    "sns.heatmap(cm, annot=True, linewidths=0.01,cmap=\"YlGnBu\",linecolor=\"gray\", fmt= '.1f',ax=ax)\n",
    "plt.xlabel(\"Predicted Label\")\n",
    "plt.ylabel(\"True Label\")\n",
    "plt.title(\"Confusion Matrix\")\n",
    "plt.show()"
   ]
  },
  {
   "cell_type": "markdown",
   "metadata": {},
   "source": [
    "## Load model\n"
   ]
  },
  {
   "cell_type": "code",
   "execution_count": 6,
   "metadata": {},
   "outputs": [],
   "source": [
    "with open('./models/Model_0.6706526279449463_16-8-18.h5.json','r') as f:\n",
    "    model_json = json.load(f)\n",
    "model = model_from_json(model_json)\n",
    "model.load_weights('./models/Model_0.6706526279449463_16-8-18.h5')"
   ]
  },
  {
   "cell_type": "markdown",
   "metadata": {},
   "source": [
    "### predict with test "
   ]
  },
  {
   "cell_type": "code",
   "execution_count": 44,
   "metadata": {},
   "outputs": [
    {
     "name": "stdout",
     "output_type": "stream",
     "text": [
      "[8.8329433e-04 1.7898816e-05 2.7431769e-04 9.5660359e-01 5.7826075e-04\n",
      " 4.1642629e-02]\n",
      "Probs -> angry:0.00088 disgust:0.00002 fear:0.00027 happy:0.95660 sadness:0.00058 surprise:0.04164\n",
      "(1, 48, 48, 1)\n"
     ]
    },
    {
     "data": {
      "text/plain": [
       "<matplotlib.image.AxesImage at 0x7fd8c81aaa90>"
      ]
     },
     "execution_count": 44,
     "metadata": {},
     "output_type": "execute_result"
    },
    {
     "data": {
      "image/png": "[encoded data removed]",
      "text/plain": [
       "<Figure size 432x288 with 1 Axes>"
      ]
     },
     "metadata": {
      "needs_background": "light"
     },
     "output_type": "display_data"
    }
   ],
   "source": [
    "%matplotlib inline\n",
    "import matplotlib.pyplot as plt\n",
    "from PIL import Image\n",
    "\n",
    "img = X_test[150]\n",
    "pred = model.predict(np.expand_dims(img,axis=0))[0]\n",
    "print(pred)\n",
    "print(\"Probs -> angry:{0:.5f} disgust:{1:.5f} fear:{2:.5f} happy:{3:.5f} sadness:{4:.5f} surprise:{5:.5f}\".format(pred[0],pred[1],pred[2],pred[3],pred[4],pred[5]))\n",
    "print(np.expand_dims(img,axis=0).shape)\n",
    "plt.imshow(Image.fromarray(img.squeeze()*255))"
   ]
  },
  {
   "cell_type": "markdown",
   "metadata": {},
   "source": [
    "### predict with outsider "
   ]
  },
  {
   "cell_type": "code",
   "execution_count": 7,
   "metadata": {},
   "outputs": [],
   "source": [
    "def transfImag(path):\n",
    "    print ('transforming image from {}'.format(path))\n",
    "\n",
    "    input_img=cv2.imread(path)\n",
    "    input_img=cv2.cvtColor(input_img, cv2.COLOR_BGR2GRAY)\n",
    "    faces = face_cascade.detectMultiScale(input_img, 1.25, 6)\n",
    "    x,y,w,h = faces[0]\n",
    "    img_data= input_img[y:y+h,x:x+w]\n",
    "    img_data=cv2.resize(img_data,(48,48))\n",
    "    \n",
    "    img_data = np.stack(img_data)\n",
    "    img_data = img_data / 255.0\n",
    "    \n",
    "    return img_data"
   ]
  },
  {
   "cell_type": "code",
   "execution_count": 8,
   "metadata": {},
   "outputs": [
    {
     "name": "stdout",
     "output_type": "stream",
     "text": [
      "transforming image from real_pics/1.jpg\n"
     ]
    },
    {
     "data": {
      "text/plain": [
       "array([[0.92156863, 0.92156863, 0.92156863, ..., 0.92156863, 0.92156863,\n",
       "        0.92156863],\n",
       "       [0.92156863, 0.92156863, 0.92156863, ..., 0.92156863, 0.92156863,\n",
       "        0.92156863],\n",
       "       [0.92156863, 0.92156863, 0.92156863, ..., 0.92156863, 0.92156863,\n",
       "        0.92156863],\n",
       "       ...,\n",
       "       [0.69411765, 0.73333333, 0.70980392, ..., 0.85882353, 0.88235294,\n",
       "        0.90980392],\n",
       "       [0.67843137, 0.6745098 , 0.69411765, ..., 0.90196078, 0.91764706,\n",
       "        0.92156863],\n",
       "       [0.70196078, 0.7254902 , 0.71372549, ..., 0.58823529, 0.89019608,\n",
       "        0.90980392]])"
      ]
     },
     "execution_count": 8,
     "metadata": {},
     "output_type": "execute_result"
    }
   ],
   "source": [
    "transfImag('real_pics/1.jpg')"
   ]
  },
  {
   "cell_type": "markdown",
   "metadata": {},
   "source": [
    "-----------------------------------------------------------------------------------------------------------------"
   ]
  },
  {
   "cell_type": "code",
   "execution_count": 13,
   "metadata": {},
   "outputs": [
    {
     "name": "stdout",
     "output_type": "stream",
     "text": [
      "transforming image from real_pics/6.jpeg\n",
      "(1, 48, 48, 1)\n",
      "Probs -> angry:0.00040 disgust:0.00000 fear:0.00040 happy:0.96481 sadness:0.03438 surprise:0.00001\n"
     ]
    },
    {
     "data": {
      "image/png": "[encoded data removed]",
      "text/plain": [
       "<Figure size 432x288 with 2 Axes>"
      ]
     },
     "metadata": {
      "needs_background": "light"
     },
     "output_type": "display_data"
    }
   ],
   "source": [
    "PIC = transfImag('real_pics/6.jpeg') # transform pic\n",
    "input_img=cv2.imread('real_pics/6.jpeg') # get the array of the original pic\n",
    "\n",
    "plt.subplot(121)\n",
    "plt.imshow(input_img) # original pic\n",
    "plt.subplot(122)\n",
    "plt.imshow(Image.fromarray(PIC.squeeze()*255)) # transformed pic\n",
    "\n",
    "PIC = np.expand_dims(PIC,axis=0).reshape(np.expand_dims(PIC,axis=0).shape[0], 48, 48, 1)\n",
    "print(PIC.shape)\n",
    "pred2 = model.predict(PIC)[0]\n",
    "print(\"Probs -> angry:{0:.5f} disgust:{1:.5f} fear:{2:.5f} happy:{3:.5f} sadness:{4:.5f} surprise:{5:.5f}\".format(pred2[0],pred2[1],pred2[2],pred2[3],pred2[4],pred2[5]))"
   ]
  },
  {
   "cell_type": "code",
   "execution_count": 41,
   "metadata": {},
   "outputs": [],
   "source": [
    "# Hacer un try except por si no recone la cara en la imagen"
   ]
  },
  {
   "cell_type": "code",
   "execution_count": 15,
   "metadata": {},
   "outputs": [
    {
     "name": "stdout",
     "output_type": "stream",
     "text": [
      "[3.97283904e-04 2.49067629e-08 3.96504940e-04 9.64810967e-01\n",
      " 3.43805104e-02 1.47549335e-05]\n"
     ]
    }
   ],
   "source": [
    "print(pred2)"
   ]
  },
  {
   "cell_type": "code",
   "execution_count": 16,
   "metadata": {},
   "outputs": [
    {
     "data": {
      "text/plain": [
       "0.0003972839"
      ]
     },
     "execution_count": 16,
     "metadata": {},
     "output_type": "execute_result"
    }
   ],
   "source": [
    "pred2[0]"
   ]
  },
  {
   "cell_type": "code",
   "execution_count": null,
   "metadata": {},
   "outputs": [],
   "source": []
  }
 ],
 "metadata": {
  "kernelspec": {
   "display_name": "Python 3",
   "language": "python",
   "name": "python3"
  },
  "language_info": {
   "codemirror_mode": {
    "name": "ipython",
    "version": 3
   },
   "file_extension": ".py",
   "mimetype": "text/x-python",
   "name": "python",
   "nbconvert_exporter": "python",
   "pygments_lexer": "ipython3",
   "version": "3.7.5"
  }
 },
 "nbformat": 4,
 "nbformat_minor": 2
}
